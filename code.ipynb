{
 "cells": [
  {
   "cell_type": "code",
   "execution_count": null,
   "metadata": {},
   "outputs": [],
   "source": [
    "import numpy as np\n",
    "from keras.models import Sequential\n",
    "from keras.layers import Dense\n",
    "import xlrd\n",
    "from sklearn.model_selection import train_test_split\n",
    "import keras\n"
   ]
  },
  {
   "cell_type": "code",
   "execution_count": null,
   "metadata": {},
   "outputs": [],
   "source": [
    "#load data\n",
    "table = xl.sheets()[0]\n",
    "y_target = table.col_values(4)\n",
    "x_f_speed = table.col_values(0)\n",
    "x_p_speed = table.col_values(1)\n",
    "x_layer_height = table.col_values(2)\n",
    "x_distance = table.col_values(3)\n",
    "x_data = np.array([x_f_speed, x_p_speed, x_layer_height, x_distance]).T\n",
    "y = np.array([y_target]).T\n",
    "y_target = keras.utils.to_categorical(y, num_classes=5)\n",
    "\n",
    "\n",
    "print(y_target)\n",
    "print(x_data)"
   ]
  },
  {
   "cell_type": "code",
   "execution_count": null,
   "metadata": {},
   "outputs": [],
   "source": [
    "#split data into train and test set\n",
    "X_train, X_test, y_train, y_test = train_test_split(x_data, y_target, test_size = 0.3)"
   ]
  },
  {
   "cell_type": "code",
   "execution_count": null,
   "metadata": {},
   "outputs": [],
   "source": [
    "#train the model\n",
    "model = Sequential()\n",
    "model.add(Dense(10, input_shape = (4,) ,activation = 'relu' ))\n",
    "model.add(Dense(20, activation = 'relu'))\n",
    "model.add(Dense(30, activation = 'relu'))\n",
    "model.add(Dense(20, activation = 'relu'))\n",
    "model.add(Dense(10, activation = 'relu'))\n",
    "model.add(Dense(5, activation = 'softmax'))\n",
    "model.compile(loss = 'categorical_crossentropy', optimizer = 'adam', metrics = ['accuracy'])\n",
    "\n",
    "model.fit(X_train, y_train, epochs = 500, batch_size = 10)\n"
   ]
  },
  {
   "cell_type": "code",
   "execution_count": null,
   "metadata": {},
   "outputs": [],
   "source": [
    "#evaluate the accuracy on the test data\n",
    "model.evaluate(X_test, y_test)"
   ]
  },
  {
   "cell_type": "code",
   "execution_count": null,
   "metadata": {},
   "outputs": [],
   "source": [
    "#view the predicted results\n",
    "y_predict = model.predict(X_test)\n",
    "print(y_predict)"
   ]
  },
  {
   "cell_type": "code",
   "execution_count": null,
   "metadata": {},
   "outputs": [],
   "source": [
    "#the following codes are for plotting the graph\n",
    "y_pre = []\n",
    "for i in range(120):\n",
    "   \n",
    "    inverted = argmax(y_predict[i])\n",
    "  \n",
    "    y_pre.append(inverted)\n",
    "    print(y_pre)\n",
    "    \n",
    "y_test1 = []\n",
    "for i in range(120):\n",
    "   \n",
    "    inverted1 = argmax(y_test[i])\n",
    "  \n",
    "    y_test1.append(inverted1)\n",
    "    print(y_test1)"
   ]
  },
  {
   "cell_type": "code",
   "execution_count": null,
   "metadata": {},
   "outputs": [],
   "source": [
    "y_test2 =\n",
    "y_final =\n",
    "import matplotlib.pyplot as plt\n",
    "%matplotlib inline\n",
    "\n",
    "\n",
    "plt.plot(range(0,120,1), y_test2, 'o', label = 'Actual connection status', markersize =5)\n",
    "plt.plot(range(0,120,1), y_final, 'o', label = 'Predicted connection status', markersize =5)\n",
    "plt.legend(loc = 'best')\n",
    "plt.xlabel('Experimental samples: accuracy 83.33%')\n",
    "plt.ylabel('Connection status class')\n",
    "plt.show()"
   ]
  },
  {
   "cell_type": "code",
   "execution_count": null,
   "metadata": {},
   "outputs": [],
   "source": [
    "y_train_predicted = model.predict(X_train)\n",
    "\n",
    "\n",
    "y_train_predicted3 = []\n",
    "for i in range(280):\n",
    "   \n",
    "    inverted3 = argmax(y_train_predicted[i])\n",
    "  \n",
    "    y_train_predicted3.append(inverted3)\n",
    "    print(y_train_predicted3)\n",
    "    \n",
    "y_train_predicted_final =\n",
    "\n",
    "\n",
    "plt.plot(range(0,280,1), y_train_original, 'o', label = 'Actual connection status', markersize =5)\n",
    "plt.plot(range(0,280,1), y_train_predicted_final, 'o', label = 'Predicted connection status', markersize =5)\n",
    "plt.legend(loc = 'best')\n",
    "plt.xlabel('Experimental samples: accuracy 82.5%')\n",
    "plt.ylabel('Connection status class')\n",
    "plt.show()"
   ]
  },
  {
   "cell_type": "code",
   "execution_count": null,
   "metadata": {},
   "outputs": [],
   "source": []
  },
  {
   "cell_type": "code",
   "execution_count": null,
   "metadata": {},
   "outputs": [],
   "source": []
  },
  {
   "cell_type": "code",
   "execution_count": null,
   "metadata": {},
   "outputs": [],
   "source": []
  },
  {
   "cell_type": "code",
   "execution_count": null,
   "metadata": {},
   "outputs": [],
   "source": []
  },
  {
   "cell_type": "code",
   "execution_count": null,
   "metadata": {},
   "outputs": [],
   "source": []
  },
  {
   "cell_type": "code",
   "execution_count": null,
   "metadata": {},
   "outputs": [],
   "source": []
  },
  {
   "cell_type": "code",
   "execution_count": null,
   "metadata": {},
   "outputs": [],
   "source": []
  }
 ],
 "metadata": {
  "kernelspec": {
   "display_name": "Python 3",
   "language": "python",
   "name": "python3"
  },
  "language_info": {
   "codemirror_mode": {
    "name": "ipython",
    "version": 3
   },
   "file_extension": ".py",
   "mimetype": "text/x-python",
   "name": "python",
   "nbconvert_exporter": "python",
   "pygments_lexer": "ipython3",
   "version": "3.7.4"
  }
 },
 "nbformat": 4,
 "nbformat_minor": 2
}
